{
  "nbformat": 4,
  "nbformat_minor": 0,
  "metadata": {
    "colab": {
      "name": "Vine_Review_Analysis.ipynb",
      "provenance": []
    },
    "kernelspec": {
      "name": "python3",
      "display_name": "Python 3"
    },
    "language_info": {
      "name": "python"
    }
  },
  "cells": [
    {
      "cell_type": "code",
      "execution_count": 1,
      "metadata": {
        "colab": {
          "base_uri": "https://localhost:8080/"
        },
        "id": "-cAjMU9z03VC",
        "outputId": "b4f3ad9c-4004-4d4a-c4f1-848f8ebcc015"
      },
      "outputs": [
        {
          "output_type": "stream",
          "name": "stdout",
          "text": [
            "\r0% [Working]\r            \rHit:1 http://archive.ubuntu.com/ubuntu bionic InRelease\n",
            "\r0% [Waiting for headers] [Waiting for headers] [Connecting to cloud.r-project.o\r                                                                               \rGet:2 http://security.ubuntu.com/ubuntu bionic-security InRelease [88.7 kB]\n",
            "Get:3 http://archive.ubuntu.com/ubuntu bionic-updates InRelease [88.7 kB]\n",
            "Get:4 https://cloud.r-project.org/bin/linux/ubuntu bionic-cran40/ InRelease [3,626 B]\n",
            "Get:5 http://ppa.launchpad.net/c2d4u.team/c2d4u4.0+/ubuntu bionic InRelease [15.9 kB]\n",
            "Get:6 http://archive.ubuntu.com/ubuntu bionic-backports InRelease [74.6 kB]\n",
            "Ign:7 https://developer.download.nvidia.com/compute/machine-learning/repos/ubuntu1804/x86_64  InRelease\n",
            "Get:8 https://developer.download.nvidia.com/compute/cuda/repos/ubuntu1804/x86_64  InRelease [1,581 B]\n",
            "Hit:9 https://developer.download.nvidia.com/compute/machine-learning/repos/ubuntu1804/x86_64  Release\n",
            "Hit:10 http://ppa.launchpad.net/cran/libgit2/ubuntu bionic InRelease\n",
            "Hit:11 http://ppa.launchpad.net/deadsnakes/ppa/ubuntu bionic InRelease\n",
            "Get:12 http://security.ubuntu.com/ubuntu bionic-security/main amd64 Packages [2,938 kB]\n",
            "Hit:13 http://ppa.launchpad.net/graphics-drivers/ppa/ubuntu bionic InRelease\n",
            "Get:14 http://security.ubuntu.com/ubuntu bionic-security/universe amd64 Packages [1,534 kB]\n",
            "Get:15 https://cloud.r-project.org/bin/linux/ubuntu bionic-cran40/ Packages [91.1 kB]\n",
            "Get:16 http://archive.ubuntu.com/ubuntu bionic-updates/universe amd64 Packages [2,311 kB]\n",
            "Get:17 http://archive.ubuntu.com/ubuntu bionic-updates/main amd64 Packages [3,369 kB]\n",
            "Get:18 http://ppa.launchpad.net/c2d4u.team/c2d4u4.0+/ubuntu bionic/main Sources [2,093 kB]\n",
            "Get:19 https://developer.download.nvidia.com/compute/cuda/repos/ubuntu1804/x86_64  Packages [912 kB]\n",
            "Get:20 http://ppa.launchpad.net/c2d4u.team/c2d4u4.0+/ubuntu bionic/main amd64 Packages [1,073 kB]\n",
            "Fetched 14.6 MB in 4s (3,688 kB/s)\n",
            "Reading package lists... Done\n"
          ]
        }
      ],
      "source": [
        "import os\n",
        "# Find the latest version of spark 3.0  from http://www.apache.org/dist/spark/ and enter as the spark version\n",
        "# For example:\n",
        "# spark_version = 'spark-3.0.3'\n",
        "spark_version = 'spark-3.3.0'\n",
        "os.environ['SPARK_VERSION']=spark_version\n",
        "\n",
        "# Install Spark and Java\n",
        "!apt-get update\n",
        "!apt-get install openjdk-11-jdk-headless -qq > /dev/null\n",
        "!wget -q http://www.apache.org/dist/spark/$SPARK_VERSION/$SPARK_VERSION-bin-hadoop3.tgz\n",
        "!tar xf $SPARK_VERSION-bin-hadoop3.tgz\n",
        "!pip install -q findspark\n",
        "\n",
        "# Set Environment Variables\n",
        "os.environ[\"JAVA_HOME\"] = \"/usr/lib/jvm/java-11-openjdk-amd64\"\n",
        "os.environ[\"SPARK_HOME\"] = f\"/content/{spark_version}-bin-hadoop3\"\n",
        "\n",
        "# Start a SparkSession\n",
        "import findspark\n",
        "findspark.init()"
      ]
    },
    {
      "cell_type": "code",
      "source": [
        "# Download the Postgres driver that will allow Spark to interact with Postgres.\n",
        "!wget https://jdbc.postgresql.org/download/postgresql-42.2.16.jar"
      ],
      "metadata": {
        "colab": {
          "base_uri": "https://localhost:8080/"
        },
        "id": "lf-Z3_sV1H4R",
        "outputId": "11824081-cb72-4b63-b6ff-a27fee5ae0f3"
      },
      "execution_count": 2,
      "outputs": [
        {
          "output_type": "stream",
          "name": "stdout",
          "text": [
            "--2022-08-28 23:18:25--  https://jdbc.postgresql.org/download/postgresql-42.2.16.jar\n",
            "Resolving jdbc.postgresql.org (jdbc.postgresql.org)... 72.32.157.228, 2001:4800:3e1:1::228\n",
            "Connecting to jdbc.postgresql.org (jdbc.postgresql.org)|72.32.157.228|:443... connected.\n",
            "HTTP request sent, awaiting response... 200 OK\n",
            "Length: 1002883 (979K) [application/java-archive]\n",
            "Saving to: ‘postgresql-42.2.16.jar’\n",
            "\n",
            "postgresql-42.2.16. 100%[===================>] 979.38K  6.14MB/s    in 0.2s    \n",
            "\n",
            "2022-08-28 23:18:25 (6.14 MB/s) - ‘postgresql-42.2.16.jar’ saved [1002883/1002883]\n",
            "\n"
          ]
        }
      ]
    },
    {
      "cell_type": "code",
      "source": [
        "from pyspark.sql import SparkSession\n",
        "spark = SparkSession.builder.appName(\"M16-Amazon-Challenge\").config(\"spark.driver.extraClassPath\",\"/content/postgresql-42.2.16.jar\").getOrCreate()"
      ],
      "metadata": {
        "id": "uve0no9W1JHr"
      },
      "execution_count": 3,
      "outputs": []
    },
    {
      "cell_type": "code",
      "source": [
        "from pyspark import SparkFiles\n",
        "url = \"https://s3.amazonaws.com/amazon-reviews-pds/tsv/amazon_reviews_us_Books_v1_00.tsv.gz\"\n",
        "spark.sparkContext.addFile(url)\n",
        "df = spark.read.option(\"encoding\", \"UTF-8\").csv(SparkFiles.get(\"amazon_reviews_us_Books_v1_00.tsv.gz\"), sep=\"\\t\", header=True, inferSchema=True)\n",
        "df.show()"
      ],
      "metadata": {
        "colab": {
          "base_uri": "https://localhost:8080/"
        },
        "id": "mlNb7K_f1OmB",
        "outputId": "c8fbdc84-de70-4ad4-9dce-ed37d9bdcb3d"
      },
      "execution_count": 4,
      "outputs": [
        {
          "output_type": "stream",
          "name": "stdout",
          "text": [
            "+-----------+-----------+--------------+----------+--------------+--------------------+----------------+-----------+-------------+-----------+----+-----------------+--------------------+--------------------+-------------------+\n",
            "|marketplace|customer_id|     review_id|product_id|product_parent|       product_title|product_category|star_rating|helpful_votes|total_votes|vine|verified_purchase|     review_headline|         review_body|        review_date|\n",
            "+-----------+-----------+--------------+----------+--------------+--------------------+----------------+-----------+-------------+-----------+----+-----------------+--------------------+--------------------+-------------------+\n",
            "|         US|   25933450| RJOVP071AVAJO|0439873800|      84656342|There Was an Old ...|           Books|          5|            0|          0|   N|                Y|          Five Stars|I love it and so ...|2015-08-31 00:00:00|\n",
            "|         US|    1801372|R1ORGBETCDW3AI|1623953553|     729938122|      I Saw a Friend|           Books|          5|            0|          0|   N|                Y|Please buy \"I Saw...|My wife and I ord...|2015-08-31 00:00:00|\n",
            "|         US|    5782091| R7TNRFQAOUTX5|142151981X|     678139048|Black Lagoon, Vol. 6|           Books|          5|            0|          0|   N|                Y|       Shipped fast.|Great book just l...|2015-08-31 00:00:00|\n",
            "|         US|   32715830|R2GANXKDIFZ6OI|014241543X|     712432151|           If I Stay|           Books|          5|            0|          0|   N|                N|          Five Stars|        So beautiful|2015-08-31 00:00:00|\n",
            "|         US|   14005703|R2NYB6C3R8LVN6|1604600527|     800572372|Stars 'N Strips F...|           Books|          5|            2|          2|   N|                Y|          Five Stars|Enjoyed the autho...|2015-08-31 00:00:00|\n",
            "|         US|   36205738|R13U5PBJI1H94K|0399170863|     559876774|            The Liar|           Books|          2|            1|          1|   N|                N|PREDICTABLE ALMOS...|Two or three page...|2015-08-31 00:00:00|\n",
            "|         US|   44121167|R1H8UVH990F8VE|1517007240|     299984591|Devil in the Deta...|           Books|          5|            2|          2|   N|                N|The Monastery Mur...|&#34;Secrets in t...|2015-08-31 00:00:00|\n",
            "|         US|   16519255|R2MC0N30WZMRQ5|0671728725|     821650353|Knowing When to S...|           Books|          5|            0|          0|   N|                Y|          Five Stars|          I love it!|2015-08-31 00:00:00|\n",
            "|         US|   49361350| R2NO2HXK16Y4J|1111349533|     419457767|The American Pageant|           Books|          5|            0|          0|   N|                Y|          Five Stars|It was a great pu...|2015-08-31 00:00:00|\n",
            "|         US|   11423253|R245YIAVJK82ZL|812211637X|     285887177|Punjabi C.L. Bibl...|           Books|          5|            0|          0|   N|                Y|          Five Stars|Quality product f...|2015-08-31 00:00:00|\n",
            "|         US|   37536260| RFBMLBWQOZ1UM|0679413359|      58983679|The Aeneid (Every...|           Books|          5|            0|          0|   N|                Y|          Five Stars|          Very happy|2015-08-31 00:00:00|\n",
            "|         US|   23614950| RHE1FEWV3KTQH|0983990662|     222024699|The YMCA of Middl...|           Books|          5|            0|          0|   N|                Y|Great history boo...|Love reading all ...|2015-08-31 00:00:00|\n",
            "|         US|   12641855|R2BB9U7PHO7ETO|156852062X|     388128348|Memoirs By Harry ...|           Books|          5|            0|          1|   N|                Y|          Five Stars|such a great purc...|2015-08-31 00:00:00|\n",
            "|         US|   36327169|R28XJJP754GYXO|B0007E4WJ4|     842975364|Arms of our fight...|           Books|          4|            0|          0|   N|                Y|          Four Stars|book was fine Tha...|2015-08-31 00:00:00|\n",
            "|         US|   49735028|R2G519UREHRO8M|0664254969|     248307276|Presbyterian Cree...|           Books|          3|            0|          1|   N|                Y|The Presbyterian ...|The Presbyterian ...|2015-08-31 00:00:00|\n",
            "|         US|   39348901| RPBKCEIN3UISD|1570913722|       9340721|Hello Ocean/Hola mar|           Books|          5|            0|          0|   N|                Y|          Five Stars|beautiful work an...|2015-08-31 00:00:00|\n",
            "|         US|    5782091|R2DOB8482VGJ8W|0345313860|     630892090|The Vampire Lesta...|           Books|          5|            0|          0|   N|                Y|       Shipped fast.|This is my favori...|2015-08-31 00:00:00|\n",
            "|         US|   30063158|R2XKOET5M8W36S|0670025593|     479521754|The Book of Life ...|           Books|          5|            0|          0|   N|                Y|One of my favorites!|Love Deborah Harn...|2015-08-31 00:00:00|\n",
            "|         US|     125518|R377BCSTZ4D2QP|161893158X|     399670838|Disney Descendant...|           Books|          5|            1|          1|   N|                Y|... has all three...|Now my daughter h...|2015-08-31 00:00:00|\n",
            "|         US|   22297413|R3A39XZ5SB97MK|007179512X|      47243107|CompTIA A+ Certif...|           Books|          5|            0|          0|   N|                Y|He said it has be...|Bought this book ...|2015-08-31 00:00:00|\n",
            "+-----------+-----------+--------------+----------+--------------+--------------------+----------------+-----------+-------------+-----------+----+-----------------+--------------------+--------------------+-------------------+\n",
            "only showing top 20 rows\n",
            "\n"
          ]
        }
      ]
    },
    {
      "cell_type": "code",
      "source": [
        "from pyspark.sql.types import IntegerType\n",
        "df = df.withColumn(\"star_rating\", df[\"star_rating\"].cast(IntegerType()))\n",
        "df.dtypes"
      ],
      "metadata": {
        "colab": {
          "base_uri": "https://localhost:8080/"
        },
        "id": "Lpn0RWtz1PML",
        "outputId": "b4a32333-ff9b-4baa-93f9-f6cdee014fdd"
      },
      "execution_count": 5,
      "outputs": [
        {
          "output_type": "execute_result",
          "data": {
            "text/plain": [
              "[('marketplace', 'string'),\n",
              " ('customer_id', 'int'),\n",
              " ('review_id', 'string'),\n",
              " ('product_id', 'string'),\n",
              " ('product_parent', 'int'),\n",
              " ('product_title', 'string'),\n",
              " ('product_category', 'string'),\n",
              " ('star_rating', 'int'),\n",
              " ('helpful_votes', 'int'),\n",
              " ('total_votes', 'int'),\n",
              " ('vine', 'string'),\n",
              " ('verified_purchase', 'string'),\n",
              " ('review_headline', 'string'),\n",
              " ('review_body', 'string'),\n",
              " ('review_date', 'timestamp')]"
            ]
          },
          "metadata": {},
          "execution_count": 5
        }
      ]
    },
    {
      "cell_type": "code",
      "source": [
        "# Create the vine_table. DataFrame\n",
        "\n",
        "vine_df = df.select([\"review_id\",\"star_rating\",\"helpful_votes\",\"total_votes\", \"vine\", \"verified_purchase\"]).drop_duplicates([\"review_id\"])\n",
        "vine_df.show()"
      ],
      "metadata": {
        "colab": {
          "base_uri": "https://localhost:8080/"
        },
        "id": "mTTyhxA01avb",
        "outputId": "f2f29813-ce21-46a9-96f5-83d9b7401395"
      },
      "execution_count": 6,
      "outputs": [
        {
          "output_type": "stream",
          "name": "stdout",
          "text": [
            "+--------------+-----------+-------------+-----------+----+-----------------+\n",
            "|     review_id|star_rating|helpful_votes|total_votes|vine|verified_purchase|\n",
            "+--------------+-----------+-------------+-----------+----+-----------------+\n",
            "|R10003J44S385F|          5|            0|          0|   N|                Y|\n",
            "|R10003SNMOFW8K|          4|            0|          0|   N|                N|\n",
            "|R10008PS3BSEUD|          5|            0|          0|   N|                Y|\n",
            "|R10009UDW9915R|          5|            2|          4|   N|                N|\n",
            "|R1000AQ7RCGKUL|          5|            0|          1|   N|                Y|\n",
            "|R1000I7I8TNAYW|          5|            0|          0|   N|                N|\n",
            "|R1000KUSU1L66U|          5|            0|          0|   N|                Y|\n",
            "|R1000MV3S5G9P8|          5|            0|          0|   N|                Y|\n",
            "|R1000NIVBNK4FD|          4|            0|          0|   N|                Y|\n",
            "|R1000Y5VKOPTHJ|          5|            0|          0|   N|                Y|\n",
            "|R1000ZS6UFAW1C|          5|            0|          0|   N|                Y|\n",
            "|R10012E6D1G0UE|          2|            1|          2|   N|                Y|\n",
            "|R10013K6NUNS2F|          5|            1|          1|   N|                Y|\n",
            "|R10013XVOXXT9E|          5|            0|          0|   N|                Y|\n",
            "|R1001CEBOHMQU9|          5|            1|          1|   N|                Y|\n",
            "|R1001DN3P1BIW0|          5|            0|          0|   N|                Y|\n",
            "|R1001FPKFV82CT|          5|            4|          6|   N|                Y|\n",
            "|R1001G0DWP0EF3|          5|            0|          0|   N|                Y|\n",
            "|R1001GN6Q1AF8U|          5|           49|         52|   N|                N|\n",
            "|R1001HR8W0J9BU|          3|            1|          2|   N|                Y|\n",
            "+--------------+-----------+-------------+-----------+----+-----------------+\n",
            "only showing top 20 rows\n",
            "\n"
          ]
        }
      ]
    },
    {
      "cell_type": "code",
      "source": [
        "# votes greater than 20\n",
        "votes_df = vine_df.filter(\"total_votes>=20\")\n",
        "votes_df.show() "
      ],
      "metadata": {
        "colab": {
          "base_uri": "https://localhost:8080/"
        },
        "id": "DLkKiCaJ_oKe",
        "outputId": "da2ad2c3-677a-4c16-a4ac-a179e53edd0f"
      },
      "execution_count": 7,
      "outputs": [
        {
          "output_type": "stream",
          "name": "stdout",
          "text": [
            "+--------------+-----------+-------------+-----------+----+-----------------+\n",
            "|     review_id|star_rating|helpful_votes|total_votes|vine|verified_purchase|\n",
            "+--------------+-----------+-------------+-----------+----+-----------------+\n",
            "|R1001GN6Q1AF8U|          5|           49|         52|   N|                N|\n",
            "|R1002YLZ8YP585|          1|            6|         20|   N|                Y|\n",
            "|R1008VVANR2IBK|          1|            9|         29|   N|                N|\n",
            "|R100HEX46R0ERT|          4|            3|         21|   N|                Y|\n",
            "|R100IFSAD2WKOO|          5|           48|         51|   Y|                N|\n",
            "| R100J3H0Y9QEM|          5|           21|         22|   N|                Y|\n",
            "|R100JHUOQSRZ2H|          4|          129|        131|   N|                Y|\n",
            "|R100LYR8JPWSTF|          1|            3|         34|   N|                Y|\n",
            "|R100P15L69LT8Y|          5|           17|         20|   N|                Y|\n",
            "|R101JKGO8DJVK8|          5|           30|         31|   N|                Y|\n",
            "|R101MO7FBZP8OV|          4|           31|         31|   N|                Y|\n",
            "|R101PYWOBNRA12|          5|           22|         22|   N|                Y|\n",
            "|R101Z9Q2JCNP2Y|          1|            5|         24|   N|                Y|\n",
            "|R1027NH9ETHTVA|          4|           49|         52|   N|                Y|\n",
            "|R102GYGPZSA7DG|          1|            8|         20|   N|                N|\n",
            "|R102X6PTY1J5FB|          5|           24|         30|   N|                Y|\n",
            "|R1030EJGN95M8K|          1|           28|         59|   N|                N|\n",
            "|R1038G3ERTQXBB|          1|           21|         33|   N|                N|\n",
            "|R103JX22S80UV5|          5|           32|         35|   N|                N|\n",
            "|R103N1J31CWEEA|          5|           20|         24|   N|                Y|\n",
            "+--------------+-----------+-------------+-----------+----+-----------------+\n",
            "only showing top 20 rows\n",
            "\n"
          ]
        }
      ]
    },
    {
      "cell_type": "code",
      "source": [
        "# votes where helpful votes are at least 50% of total votes\n",
        "helpful_df = votes_df.filter(\"helpful_votes/total_votes >= 0.5\")\n",
        "helpful_df.show()"
      ],
      "metadata": {
        "colab": {
          "base_uri": "https://localhost:8080/"
        },
        "id": "VwV0mdtTADo9",
        "outputId": "b1efea44-0265-4d01-80c0-818d12455c31"
      },
      "execution_count": 8,
      "outputs": [
        {
          "output_type": "stream",
          "name": "stdout",
          "text": [
            "+--------------+-----------+-------------+-----------+----+-----------------+\n",
            "|     review_id|star_rating|helpful_votes|total_votes|vine|verified_purchase|\n",
            "+--------------+-----------+-------------+-----------+----+-----------------+\n",
            "|R1001GN6Q1AF8U|          5|           49|         52|   N|                N|\n",
            "|R100IFSAD2WKOO|          5|           48|         51|   Y|                N|\n",
            "| R100J3H0Y9QEM|          5|           21|         22|   N|                Y|\n",
            "|R100JHUOQSRZ2H|          4|          129|        131|   N|                Y|\n",
            "|R100P15L69LT8Y|          5|           17|         20|   N|                Y|\n",
            "|R101JKGO8DJVK8|          5|           30|         31|   N|                Y|\n",
            "|R101MO7FBZP8OV|          4|           31|         31|   N|                Y|\n",
            "|R101PYWOBNRA12|          5|           22|         22|   N|                Y|\n",
            "|R1027NH9ETHTVA|          4|           49|         52|   N|                Y|\n",
            "|R102X6PTY1J5FB|          5|           24|         30|   N|                Y|\n",
            "|R1038G3ERTQXBB|          1|           21|         33|   N|                N|\n",
            "|R103JX22S80UV5|          5|           32|         35|   N|                N|\n",
            "|R103N1J31CWEEA|          5|           20|         24|   N|                Y|\n",
            "|R103TPY3XUXNSL|          5|           38|         40|   N|                Y|\n",
            "|R1040T20FWSYWC|          5|           27|         31|   N|                Y|\n",
            "|R104DIGK6MGXX4|          5|           97|        141|   N|                Y|\n",
            "|R104G8687BTMIV|          3|           51|         56|   N|                Y|\n",
            "|R104HLV3TGCWOU|          5|           17|         20|   N|                Y|\n",
            "|R104JHJKEHN7EO|          5|           18|         23|   N|                N|\n",
            "|R105AE9G73H6FR|          5|           19|         20|   N|                N|\n",
            "+--------------+-----------+-------------+-----------+----+-----------------+\n",
            "only showing top 20 rows\n",
            "\n"
          ]
        }
      ]
    },
    {
      "cell_type": "code",
      "source": [
        "# paid reviews where vine is yes\n",
        "paid_review_df = helpful_df.filter(helpful_df[\"vine\"]== \"Y\")\n",
        "paid_review_df.show()"
      ],
      "metadata": {
        "colab": {
          "base_uri": "https://localhost:8080/"
        },
        "id": "2_uxfeIJAijd",
        "outputId": "3a0cbdfd-11a9-47ce-8133-e6ad7c2d89e6"
      },
      "execution_count": 9,
      "outputs": [
        {
          "output_type": "stream",
          "name": "stdout",
          "text": [
            "+--------------+-----------+-------------+-----------+----+-----------------+\n",
            "|     review_id|star_rating|helpful_votes|total_votes|vine|verified_purchase|\n",
            "+--------------+-----------+-------------+-----------+----+-----------------+\n",
            "|R100IFSAD2WKOO|          5|           48|         51|   Y|                N|\n",
            "|R10LRJXK046Y34|          5|           41|         42|   Y|                N|\n",
            "|R10NK6QYS1BOOG|          4|           69|         74|   Y|                N|\n",
            "|R10OE71JMLNDD5|          1|          360|        395|   Y|                N|\n",
            "|R10OJRVVS7DKRQ|          3|           25|         26|   Y|                N|\n",
            "|R10TGEU44BVNXW|          5|           32|         34|   Y|                N|\n",
            "|R10VGA3Z0VP7F8|          5|           15|         21|   Y|                N|\n",
            "|R10ZB1QOFTW3WR|          2|           61|         98|   Y|                N|\n",
            "|R110B2P40TYCOH|          5|           26|         31|   Y|                N|\n",
            "|R112C6RN5UAN3D|          4|           73|         76|   Y|                N|\n",
            "|R11792I7R83YQG|          3|           22|         25|   Y|                N|\n",
            "|R11AZ2ZDLIWSYV|          5|           65|         70|   Y|                N|\n",
            "|R11HFHQHPJ8K9F|          3|           25|         31|   Y|                N|\n",
            "|R11J9ZETFBZW48|          3|          108|        136|   Y|                N|\n",
            "|R11MJWAZOXX63D|          5|           22|         22|   Y|                N|\n",
            "|R11RRWWDYWIKQY|          3|           21|         25|   Y|                N|\n",
            "|R11UJ2JZORYX62|          5|           31|         34|   Y|                N|\n",
            "|R1242PPNXBY5WX|          4|           18|         23|   Y|                N|\n",
            "|R124W7PUXKUXND|          2|           14|         21|   Y|                N|\n",
            "|R12CAPX5F3DZ12|          2|           49|         60|   Y|                N|\n",
            "+--------------+-----------+-------------+-----------+----+-----------------+\n",
            "only showing top 20 rows\n",
            "\n"
          ]
        }
      ]
    },
    {
      "cell_type": "code",
      "source": [
        "# total paid reviews\n",
        "paid_review_df.count()"
      ],
      "metadata": {
        "colab": {
          "base_uri": "https://localhost:8080/"
        },
        "id": "jAPuQn3_COBB",
        "outputId": "ca932051-a070-4fda-aa0d-f945575a07f5"
      },
      "execution_count": 10,
      "outputs": [
        {
          "output_type": "execute_result",
          "data": {
            "text/plain": [
              "5012"
            ]
          },
          "metadata": {},
          "execution_count": 10
        }
      ]
    },
    {
      "cell_type": "code",
      "source": [
        "# total paid 5 star reviews\n",
        "paid_review_df.filter(\"star_rating ==5\").count()"
      ],
      "metadata": {
        "colab": {
          "base_uri": "https://localhost:8080/"
        },
        "id": "b5XirIoyH2M4",
        "outputId": "b27d251a-4206-4afb-e604-788af0a057ca"
      },
      "execution_count": 11,
      "outputs": [
        {
          "output_type": "execute_result",
          "data": {
            "text/plain": [
              "2031"
            ]
          },
          "metadata": {},
          "execution_count": 11
        }
      ]
    },
    {
      "cell_type": "code",
      "source": [
        "# percentage of paid 5 star reviews\n",
        "paid_review_df.filter(\"star_rating ==5\").count()/paid_review_df.count()*100"
      ],
      "metadata": {
        "colab": {
          "base_uri": "https://localhost:8080/"
        },
        "id": "UdguDE2TPee5",
        "outputId": "775f30ea-ce99-40db-de2f-33d25d8a3feb"
      },
      "execution_count": 12,
      "outputs": [
        {
          "output_type": "execute_result",
          "data": {
            "text/plain": [
              "40.52274541101357"
            ]
          },
          "metadata": {},
          "execution_count": 12
        }
      ]
    },
    {
      "cell_type": "code",
      "source": [
        "# unpaid reviews where vine is no\n",
        "unpaid_review_df = helpful_df.filter(helpful_df[\"vine\"]== \"N\")\n",
        "unpaid_review_df.show()"
      ],
      "metadata": {
        "colab": {
          "base_uri": "https://localhost:8080/"
        },
        "id": "k-IpX5KzA9-U",
        "outputId": "19c10f58-965f-4503-fae3-57a031d9a047"
      },
      "execution_count": 13,
      "outputs": [
        {
          "output_type": "stream",
          "name": "stdout",
          "text": [
            "+--------------+-----------+-------------+-----------+----+-----------------+\n",
            "|     review_id|star_rating|helpful_votes|total_votes|vine|verified_purchase|\n",
            "+--------------+-----------+-------------+-----------+----+-----------------+\n",
            "|R1001GN6Q1AF8U|          5|           49|         52|   N|                N|\n",
            "| R100J3H0Y9QEM|          5|           21|         22|   N|                Y|\n",
            "|R100JHUOQSRZ2H|          4|          129|        131|   N|                Y|\n",
            "|R100P15L69LT8Y|          5|           17|         20|   N|                Y|\n",
            "|R101JKGO8DJVK8|          5|           30|         31|   N|                Y|\n",
            "|R101MO7FBZP8OV|          4|           31|         31|   N|                Y|\n",
            "|R101PYWOBNRA12|          5|           22|         22|   N|                Y|\n",
            "|R1027NH9ETHTVA|          4|           49|         52|   N|                Y|\n",
            "|R102X6PTY1J5FB|          5|           24|         30|   N|                Y|\n",
            "|R1038G3ERTQXBB|          1|           21|         33|   N|                N|\n",
            "|R103JX22S80UV5|          5|           32|         35|   N|                N|\n",
            "|R103N1J31CWEEA|          5|           20|         24|   N|                Y|\n",
            "|R103TPY3XUXNSL|          5|           38|         40|   N|                Y|\n",
            "|R1040T20FWSYWC|          5|           27|         31|   N|                Y|\n",
            "|R104DIGK6MGXX4|          5|           97|        141|   N|                Y|\n",
            "|R104G8687BTMIV|          3|           51|         56|   N|                Y|\n",
            "|R104HLV3TGCWOU|          5|           17|         20|   N|                Y|\n",
            "|R104JHJKEHN7EO|          5|           18|         23|   N|                N|\n",
            "|R105AE9G73H6FR|          5|           19|         20|   N|                N|\n",
            "|R105EMWMN54JOF|          5|           81|         89|   N|                Y|\n",
            "+--------------+-----------+-------------+-----------+----+-----------------+\n",
            "only showing top 20 rows\n",
            "\n"
          ]
        }
      ]
    },
    {
      "cell_type": "code",
      "source": [
        "# total unpaid reviews\n",
        "unpaid_review_df.count()"
      ],
      "metadata": {
        "colab": {
          "base_uri": "https://localhost:8080/"
        },
        "id": "rsvZ4uFiBH0l",
        "outputId": "d7d6da33-0388-4505-dac0-9f11c65f0a5a"
      },
      "execution_count": 14,
      "outputs": [
        {
          "output_type": "execute_result",
          "data": {
            "text/plain": [
              "109297"
            ]
          },
          "metadata": {},
          "execution_count": 14
        }
      ]
    },
    {
      "cell_type": "code",
      "source": [
        "# total unpaid 5 star reviews\n",
        "unpaid_review_df.filter(\"star_rating ==5\").count()"
      ],
      "metadata": {
        "colab": {
          "base_uri": "https://localhost:8080/"
        },
        "id": "09p834qJQsv6",
        "outputId": "1cdd564a-ca64-4482-85bc-6b3536286a84"
      },
      "execution_count": 15,
      "outputs": [
        {
          "output_type": "execute_result",
          "data": {
            "text/plain": [
              "49967"
            ]
          },
          "metadata": {},
          "execution_count": 15
        }
      ]
    },
    {
      "cell_type": "code",
      "source": [
        "# percentage of unpaid 5 star reviews\n",
        "unpaid_review_df.filter(\"star_rating ==5\").count()/unpaid_review_df.count()*100"
      ],
      "metadata": {
        "colab": {
          "base_uri": "https://localhost:8080/"
        },
        "id": "TrKOIMz3Qsj9",
        "outputId": "c8b1b1fd-b961-4ed9-a2f8-1dec471cdbc4"
      },
      "execution_count": 16,
      "outputs": [
        {
          "output_type": "execute_result",
          "data": {
            "text/plain": [
              "45.716716835777746"
            ]
          },
          "metadata": {},
          "execution_count": 16
        }
      ]
    }
  ]
}